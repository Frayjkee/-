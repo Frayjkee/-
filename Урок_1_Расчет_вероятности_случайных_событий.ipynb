{
  "nbformat": 4,
  "nbformat_minor": 0,
  "metadata": {
    "colab": {
      "provenance": [],
      "authorship_tag": "ABX9TyPzsvnpF8TtaUPB24GW1Auu",
      "include_colab_link": true
    },
    "kernelspec": {
      "name": "python3",
      "display_name": "Python 3"
    },
    "language_info": {
      "name": "python"
    }
  },
  "cells": [
    {
      "cell_type": "markdown",
      "metadata": {
        "id": "view-in-github",
        "colab_type": "text"
      },
      "source": [
        "<a href=\"https://colab.research.google.com/github/Frayjkee/-/blob/main/%D0%A3%D1%80%D0%BE%D0%BA_1_%D0%A0%D0%B0%D1%81%D1%87%D0%B5%D1%82_%D0%B2%D0%B5%D1%80%D0%BE%D1%8F%D1%82%D0%BD%D0%BE%D1%81%D1%82%D0%B8_%D1%81%D0%BB%D1%83%D1%87%D0%B0%D0%B9%D0%BD%D1%8B%D1%85_%D1%81%D0%BE%D0%B1%D1%8B%D1%82%D0%B8%D0%B9.ipynb\" target=\"_parent\"><img src=\"https://colab.research.google.com/assets/colab-badge.svg\" alt=\"Open In Colab\"/></a>"
      ]
    },
    {
      "cell_type": "markdown",
      "source": [
        "Задача 1"
      ],
      "metadata": {
        "id": "NMQ1BSBB2rMj"
      }
    },
    {
      "cell_type": "code",
      "execution_count": 4,
      "metadata": {
        "colab": {
          "base_uri": "https://localhost:8080/"
        },
        "id": "EKh2V6Az1MGG",
        "outputId": "b18de426-d137-4b8a-d484-32d83ac21251"
      },
      "outputs": [
        {
          "output_type": "execute_result",
          "data": {
            "text/plain": [
              "(0.0026410564225690276, 0.2812632745405854)"
            ]
          },
          "metadata": {},
          "execution_count": 4
        }
      ],
      "source": [
        "import math\n",
        "\n",
        "# a) Вероятность того, что все карты - крести\n",
        "# Число способов выбрать 4 крести из 13 крестей\n",
        "success_ways_a = math.comb(13, 4)\n",
        "# Число способов выбрать любые 4 карты из 52\n",
        "total_ways_a = math.comb(52, 4)\n",
        "# Вероятность\n",
        "probability_a = success_ways_a / total_ways_a\n",
        "\n",
        "# б) Вероятность того, что среди 4 карт окажется хотя бы один туз\n",
        "# Число способов выбрать 4 карты, среди которых нет ни одного туза\n",
        "success_ways_b = math.comb(48, 4)\n",
        "# Число способов выбрать любые 4 карты из 52\n",
        "total_ways_b = math.comb(52, 4)\n",
        "# Вероятность того, что среди 4 карт нет ни одного туза\n",
        "probability_no_ace = success_ways_b / total_ways_b\n",
        "# Вероятность того, что среди 4 карт есть хотя бы один туз\n",
        "probability_b = 1 - probability_no_ace\n",
        "\n",
        "probability_a, probability_b\n"
      ]
    },
    {
      "cell_type": "markdown",
      "source": [
        "Задача 2"
      ],
      "metadata": {
        "id": "K9g-cfMm2yGD"
      }
    },
    {
      "cell_type": "code",
      "source": [
        "import math\n",
        "\n",
        "# Общее количество возможных комбинаций трёх цифр из десяти\n",
        "total_combinations = math.comb(10, 3)\n",
        "\n",
        "# Вероятность успешного открытия двери с первой попытки\n",
        "probability = 1 / total_combinations\n",
        "\n",
        "probability\n"
      ],
      "metadata": {
        "colab": {
          "base_uri": "https://localhost:8080/"
        },
        "id": "wnXNznDv2S6v",
        "outputId": "9cafa827-1d62-4522-b9b6-9dc9d6cb4a47"
      },
      "execution_count": 5,
      "outputs": [
        {
          "output_type": "execute_result",
          "data": {
            "text/plain": [
              "0.008333333333333333"
            ]
          },
          "metadata": {},
          "execution_count": 5
        }
      ]
    }
  ]
}